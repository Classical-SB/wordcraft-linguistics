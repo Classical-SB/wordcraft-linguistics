{
 "cells": [
  {
   "cell_type": "code",
   "execution_count": 59,
   "metadata": {},
   "outputs": [
    {
     "name": "stdout",
     "output_type": "stream",
     "text": [
      "Requirement already satisfied: en-core-web-sm==3.0.0 from https://github.com/explosion/spacy-models/releases/download/en_core_web_sm-3.0.0/en_core_web_sm-3.0.0-py3-none-any.whl#egg=en_core_web_sm==3.0.0 in /Users/oliverplunkett/Documents/Wordcraft/wordcraft-linguistics/l-venv/lib/python3.8/site-packages (3.0.0)\n",
      "Requirement already satisfied: spacy<3.1.0,>=3.0.0 in /Users/oliverplunkett/Documents/Wordcraft/wordcraft-linguistics/l-venv/lib/python3.8/site-packages (from en-core-web-sm==3.0.0) (3.0.6)\n",
      "Requirement already satisfied: tqdm<5.0.0,>=4.38.0 in /Users/oliverplunkett/Documents/Wordcraft/wordcraft-linguistics/l-venv/lib/python3.8/site-packages (from spacy<3.1.0,>=3.0.0->en-core-web-sm==3.0.0) (4.54.1)\n",
      "Requirement already satisfied: packaging>=20.0 in /Users/oliverplunkett/Documents/Wordcraft/wordcraft-linguistics/l-venv/lib/python3.8/site-packages (from spacy<3.1.0,>=3.0.0->en-core-web-sm==3.0.0) (20.9)\n",
      "Requirement already satisfied: wasabi<1.1.0,>=0.8.1 in /Users/oliverplunkett/Documents/Wordcraft/wordcraft-linguistics/l-venv/lib/python3.8/site-packages (from spacy<3.1.0,>=3.0.0->en-core-web-sm==3.0.0) (0.8.2)\n",
      "Requirement already satisfied: srsly<3.0.0,>=2.4.1 in /Users/oliverplunkett/Documents/Wordcraft/wordcraft-linguistics/l-venv/lib/python3.8/site-packages (from spacy<3.1.0,>=3.0.0->en-core-web-sm==3.0.0) (2.4.1)\n",
      "Requirement already satisfied: pydantic<1.8.0,>=1.7.1 in /Users/oliverplunkett/Documents/Wordcraft/wordcraft-linguistics/l-venv/lib/python3.8/site-packages (from spacy<3.1.0,>=3.0.0->en-core-web-sm==3.0.0) (1.7.3)\n",
      "Requirement already satisfied: cymem<2.1.0,>=2.0.2 in /Users/oliverplunkett/Documents/Wordcraft/wordcraft-linguistics/l-venv/lib/python3.8/site-packages (from spacy<3.1.0,>=3.0.0->en-core-web-sm==3.0.0) (2.0.5)\n",
      "Requirement already satisfied: spacy-legacy<3.1.0,>=3.0.4 in /Users/oliverplunkett/Documents/Wordcraft/wordcraft-linguistics/l-venv/lib/python3.8/site-packages (from spacy<3.1.0,>=3.0.0->en-core-web-sm==3.0.0) (3.0.5)\n",
      "Requirement already satisfied: thinc<8.1.0,>=8.0.3 in /Users/oliverplunkett/Documents/Wordcraft/wordcraft-linguistics/l-venv/lib/python3.8/site-packages (from spacy<3.1.0,>=3.0.0->en-core-web-sm==3.0.0) (8.0.3)\n",
      "Requirement already satisfied: pathy>=0.3.5 in /Users/oliverplunkett/Documents/Wordcraft/wordcraft-linguistics/l-venv/lib/python3.8/site-packages (from spacy<3.1.0,>=3.0.0->en-core-web-sm==3.0.0) (0.5.2)\n",
      "Requirement already satisfied: requests<3.0.0,>=2.13.0 in /Users/oliverplunkett/Documents/Wordcraft/wordcraft-linguistics/l-venv/lib/python3.8/site-packages (from spacy<3.1.0,>=3.0.0->en-core-web-sm==3.0.0) (2.25.1)\n",
      "Requirement already satisfied: jinja2 in /Users/oliverplunkett/Documents/Wordcraft/wordcraft-linguistics/l-venv/lib/python3.8/site-packages (from spacy<3.1.0,>=3.0.0->en-core-web-sm==3.0.0) (2.11.2)\n",
      "Requirement already satisfied: setuptools in /Users/oliverplunkett/Documents/Wordcraft/wordcraft-linguistics/l-venv/lib/python3.8/site-packages (from spacy<3.1.0,>=3.0.0->en-core-web-sm==3.0.0) (41.2.0)\n",
      "Requirement already satisfied: catalogue<2.1.0,>=2.0.3 in /Users/oliverplunkett/Documents/Wordcraft/wordcraft-linguistics/l-venv/lib/python3.8/site-packages (from spacy<3.1.0,>=3.0.0->en-core-web-sm==3.0.0) (2.0.4)\n",
      "Requirement already satisfied: blis<0.8.0,>=0.4.0 in /Users/oliverplunkett/Documents/Wordcraft/wordcraft-linguistics/l-venv/lib/python3.8/site-packages (from spacy<3.1.0,>=3.0.0->en-core-web-sm==3.0.0) (0.7.4)\n",
      "Requirement already satisfied: murmurhash<1.1.0,>=0.28.0 in /Users/oliverplunkett/Documents/Wordcraft/wordcraft-linguistics/l-venv/lib/python3.8/site-packages (from spacy<3.1.0,>=3.0.0->en-core-web-sm==3.0.0) (1.0.5)\n",
      "Requirement already satisfied: typer<0.4.0,>=0.3.0 in /Users/oliverplunkett/Documents/Wordcraft/wordcraft-linguistics/l-venv/lib/python3.8/site-packages (from spacy<3.1.0,>=3.0.0->en-core-web-sm==3.0.0) (0.3.2)\n",
      "Requirement already satisfied: preshed<3.1.0,>=3.0.2 in /Users/oliverplunkett/Documents/Wordcraft/wordcraft-linguistics/l-venv/lib/python3.8/site-packages (from spacy<3.1.0,>=3.0.0->en-core-web-sm==3.0.0) (3.0.5)\n",
      "Requirement already satisfied: numpy>=1.15.0 in /Users/oliverplunkett/Documents/Wordcraft/wordcraft-linguistics/l-venv/lib/python3.8/site-packages (from spacy<3.1.0,>=3.0.0->en-core-web-sm==3.0.0) (1.19.4)\n",
      "Requirement already satisfied: pyparsing>=2.0.2 in /Users/oliverplunkett/Documents/Wordcraft/wordcraft-linguistics/l-venv/lib/python3.8/site-packages (from packaging>=20.0->spacy<3.1.0,>=3.0.0->en-core-web-sm==3.0.0) (2.4.7)\n",
      "Requirement already satisfied: smart-open<4.0.0,>=2.2.0 in /Users/oliverplunkett/Documents/Wordcraft/wordcraft-linguistics/l-venv/lib/python3.8/site-packages (from pathy>=0.3.5->spacy<3.1.0,>=3.0.0->en-core-web-sm==3.0.0) (3.0.0)\n",
      "Requirement already satisfied: certifi>=2017.4.17 in /Users/oliverplunkett/Documents/Wordcraft/wordcraft-linguistics/l-venv/lib/python3.8/site-packages (from requests<3.0.0,>=2.13.0->spacy<3.1.0,>=3.0.0->en-core-web-sm==3.0.0) (2020.12.5)\n",
      "Requirement already satisfied: idna<3,>=2.5 in /Users/oliverplunkett/Documents/Wordcraft/wordcraft-linguistics/l-venv/lib/python3.8/site-packages (from requests<3.0.0,>=2.13.0->spacy<3.1.0,>=3.0.0->en-core-web-sm==3.0.0) (2.10)\n",
      "Requirement already satisfied: urllib3<1.27,>=1.21.1 in /Users/oliverplunkett/Documents/Wordcraft/wordcraft-linguistics/l-venv/lib/python3.8/site-packages (from requests<3.0.0,>=2.13.0->spacy<3.1.0,>=3.0.0->en-core-web-sm==3.0.0) (1.26.2)\n",
      "Requirement already satisfied: chardet<5,>=3.0.2 in /Users/oliverplunkett/Documents/Wordcraft/wordcraft-linguistics/l-venv/lib/python3.8/site-packages (from requests<3.0.0,>=2.13.0->spacy<3.1.0,>=3.0.0->en-core-web-sm==3.0.0) (4.0.0)\n",
      "Requirement already satisfied: MarkupSafe>=0.23 in /Users/oliverplunkett/Documents/Wordcraft/wordcraft-linguistics/l-venv/lib/python3.8/site-packages (from jinja2->spacy<3.1.0,>=3.0.0->en-core-web-sm==3.0.0) (1.1.1)\n",
      "Requirement already satisfied: click<7.2.0,>=7.1.1 in /Users/oliverplunkett/Documents/Wordcraft/wordcraft-linguistics/l-venv/lib/python3.8/site-packages (from typer<0.4.0,>=0.3.0->spacy<3.1.0,>=3.0.0->en-core-web-sm==3.0.0) (7.1.2)\n",
      "\u001b[33mWARNING: You are using pip version 19.2.3, however version 21.1.1 is available.\n",
      "You should consider upgrading via the 'pip install --upgrade pip' command.\u001b[0m\n",
      "\u001b[38;5;2m✔ Download and installation successful\u001b[0m\n",
      "You can now load the package via spacy.load('en_core_web_sm')\n"
     ]
    },
    {
     "name": "stderr",
     "output_type": "stream",
     "text": [
      "UsageError: Line magic function `%%javascript` not found.\n"
     ]
    }
   ],
   "source": [
    "# https://spacy.io/usage/v3\n",
    "import spacy\n",
    "import random\n",
    "from IPython.display import HTML as html_print\n",
    "import requests\n",
    "!python3 -m spacy download en_core_web_sm\n",
    "nlp = spacy.load(\"en_core_web_sm\")\n",
    "\n",
    "%%javascript\n",
    "IPython.OutputArea.auto_scroll_threshold = 15000;"
   ]
  },
  {
   "cell_type": "markdown",
   "metadata": {},
   "source": [
    "***\n",
    "***CONSTANTS***\n",
    "***"
   ]
  },
  {
   "cell_type": "code",
   "execution_count": 49,
   "metadata": {},
   "outputs": [],
   "source": [
    "COPULAS = [\"is\", \"are\", \"were\"]\n",
    "\n",
    "VERB_TAGS = [\"AUX\",\"VERB\"]\n",
    "\n",
    "WORDCRAFT_WORDS = \"Mediterranean,abdicate,abhor,abhorrent,abstract,acanthocephalan,accredit,accreditation,acephalous,acholia,achromatic,acousticophobe,acousticophobia,acquire,acquisition,acrokinesia,acrolect,acrolith,acronym,acropathy,acrophobe,acrophobia,acuity,acumen,acupuncture,acupuncturist,acute,adenitis,adenoma,aerobic,aerolith,aeronaut,aeronautical,aeronautics,aeropathy,aerophobe,aerophobia,aestivation,affluence,aggravate,agnostic,agnosticism,agoraphobe,agoraphobia,albedo,albinism,albino,album,albumen,algophobe,algophobia,alienable,allegory,allergen,allergic,allergy,alleviate,alliteration,allonym,allopatric,altimeter,ambidextrous,amnesia,amorphous,anaerobic,analgesic,anarchic,anarchy,android,anesthetic,angiopathy,anhedonia,animal,animate,animation,animism,animosity,anisogamy,annihilate,annihilation,anniversary,annual,annually,annull,anonymous,anosmia,antebellum,antediluvian,anthophile,anthophilia,anthozoa,anthracemia,anthropogeny,anthropoid,anthropology,anthropophobe,anthropophobia,anthroposophical,anthroposophist,anthroposophy,antifungal,antigen,antineutrino,antipsychotic,antonym,apathy,apiary,apiculture,apnea,apocarps,apocarpy,appendage,appendices,appendicitis,appendix,apteral,apterous,apteryx,aquaculture,aquanaut,aquifer,arachnophobe,arachnophobia,arboriculture,archaeoastronomy,archaeology,archaic,archosaur,argonaut,aristocracy,armadillo,arteriopathy,arthralgia,arthritis,arthropod,arthroscope,artiodactyl,assimilate,asterisk,asteroid,astral,astrobiology,astrocyte,astrolabe,astrologer,astrology,astronaut,astronomer,astronomy,asymmetry,asymptote,athlete,athletic,atom,atrophy,audible,audience,audiogenic,audiogram,audiogram,audiologist,audiology,audiometer,audiometry,audiopathy,audiophile,audiovisual,auditorium,autocracy,autocrat,autograph,autohypnosis,autohypnotic,automatic,automobile,autonomous,autophagy,autotomy,autotroph,avian,aviary,aviation,aviator,aviatrix,aviculture,bacteriacide,bacteriology,bankrupt,baritone,barometer,basilect,batholith,bathometer,bathynaut,belligerent,benediction,benefactor,beneficial,beneficiary,benefit,benevolence,benevolent,benign,benthic,biannual,biathlete,biathlon,bibliographer,bibliography,bibliology,bibliomancy,bibliomania,bibliomaniac,bibliophile,bibliophilia,bibliophobe,bibliophobia,bibliotherapy,bicentennial,bicephalous,biceps,bicycle,bident,biennial,bilateral,bilingual,bilith,bimeter,binary,binomial,biocide,biology,biome,biomimetic,bioscope,biped,bipod,bisect,bisector,brachialgia,brachiopod,brachycephalic,brachypterous,bradycardia,breviary,brevity,bryophyte,bryozoa,bureaucracy,bursitis,cacodemon,cacography,cacophonous,cacophony,calligrapher,calligraphy,canine,capital,captivating,captivity,capture,cardiac,cardinal,cardiogenic,cardiogram,cardiograph,cardioid,cardiologist,cardiology,cardiopathy,carnivore,carnivorous,carpophore,carpospore,cavity,celestial,celestine,cellulitis,centennial,centimeter,centipede,centrifuge,centroid,century,cephalalgia,cephalic,cephalization,cephalochordate,cephalometry,cephalopod,cephalothorax,cerebropathy,cessation,cetology,chaeta,chela,chelate,chelicera,cheliped,chemolithoautotroph,chemotroph,chiliad,chiliagon,chiliarch,chiliasm,chiliast,chilitis,chiral,chirality,chirographer,chirography,chiromancer,chiromancy,chiropodist,chiropractor,chiropteran,chirotherium,chlorosis,chondroma,chondropathy,chord,chordate,chromatophore,chromium,chromogen,chromophobe,chromosome,chromosphere,chronic,chronolect,chronology,chronometer,chronophobe,chronophobia,chrysalis,chrysanthemum,chrysolite,chrysotherapy,circuit,circuitous,circular,circumambulate,circumference,circumflex,circumfluous,circumlocution,circumscribe,circumscribed,circumspect,circumstances,circumstantial,circumstellar,circumvent,circus,cirrhosis,civic,civil,civility,civilization,civilize,clamor,clarification,clarify,clarity,claustrophobe,claustrophobia,cnidarian,codependency,codependent,coleoptera,colitis,colloquial,colloquium,colotomy,comet,commensalism,complacency,complacent,compunction,concave,confluence,congregate,congregation,congruent,conifer,conscience,conscientious,conscious,consciousness,constellation,contact,contagious,contemporaneous,contemporaneously,contemporary,contemporize,contiguous,contingency,contingent,contort,contortion,contradict,contradiction,contradictory,convex,coronation,coronavirus,cosmetics,cosmetology,cosmologist,cosmology,cosmonaut,cosmopolis,cosmopolitan,craniectomy,credence,credential,credible,credit,creditor,credo,credulity,creed,crocodile,crucifer,cruciform,crypsis,cryptic,cryptogenic,cryptogram,cryptographer,cryptography,cryptolect,cryptology,cryptonym,cryptozoa,cryptozoologist,cryptozoology,cuboid,culpable,cuneiform,cyanosis,cyclamen,cyclical,cyclist,cycloid,cyclometer,cyclone,cyclops,cyclorama,cynic,cynic,cynical,cynical,cynocephalic,cynocephalus,cynocephaly,cynomorpha,cynophile,cynophilia,cynophobe,cynophobia,cystitis,cystocarp,cystolith,cytopathy,cytophotometry,cytoplasm,cytosis,dactyl,dactylic,dactylitis,dactylography,dactylology,dactylomegaly,dactylus,decade,decagon,decahedron,decaliter,decalogue,decapod,decathlete,decathlon,december,decet,decibel,decigram,decimal,decimate,decimeter,declaration,decrypt,demagogue,democracy,democratic,demography,demonology,demotic,dendriform,dendrite,dendritic,dendrochronologist,dendrochronology,dendrogram,dendroid,dendrology,denticle,dentifrice,dentition,dentoid,dentophobe,dentophobia,denture,depend,dependability,dependable,dependence,dependency,dependent,dermatitis,dermatoglyph,dermatologist,dermatology,dermatopathy,dermatophyte,dermatotrophy,dermoptera,detritivore,detritivorous,devastate,devastation,dexterity,dexterous,dextral,dextrocardia,diagnose,diagnosis,diagnostician,diagonal,dialect,diatom,dictate,dictator,diction,dictum,didactyl,diffraction,diffractometer,digit,digital,digitigrade,dignity,dipsomania,dipsosis,diptera,dipteral,dipteran,disaster,discord,discredit,disruption,dissimilar,distortion,diurnal,dodecagon,dodecahedron,dodecaphonic,dolichocephalic,dolphin,domestication,dormancy,dormant,dormant,dormitory,dormouse,dorsal,dubious,duet,duplicate,dyspnea,dystopia,eccentric,eccentricity,echinoderm,ecocide,ecolect,ectotherm,egocentric,egomania,egotistical,egregious,electroencephalogram,electroencephalographer,electroscope,elevation,elevator,eloquence,eloquent,elucidate,emigrant,emigrate,emigration,emotion,emotional,encephalitis,encephalitogen,encephalitogenic,encephalopathy,enchiridion,encrypt,encryption,encyclical,encyclopedia,encyclopedic,endocardium,endocarp,endocrinosis,endodontist,endolithic,endoparasite,endoparasitic,endoscope,endoskeleton,endosymbiosis,endotherm,entomology,eolithic,epicarp,epidemic,epidemiology,epidermis,epilithic,equality,equanimity,equator,equilateral,equinoctial,equinophile,equinophilia,equinophobe,equinophobia,equinox,eruption,eschatology,estivation,ethnocentrism,ethnolect,eukaryote,eulogy,euphony,eupnea,euthanasia,eutrophication,exculpate,exhalation,exobiology,exodontist,exodus,exonerate,exophthalmic,exorbitant,exoskeleton,expatriate,expedient,extemporaneous,extemporaneously,extortion,extragalactic,extraneous,extraterrestrial,extricate,extrovert,facsimile,factoid,ferret,ferry,finite,flora,floriation,floriculture,florid,floriferous,florigenic,florist,flu,fluctuate,fluctuation,fluency,fluent,fluid,fluidity,flux,folivore,foraminafer,fortuitous,fortuity,fortunate,fortune,fossiliferous,fractal,fraction,fractionation,fractious,fragile,fragment,fragmentary,fragmentation,fructify,fructivore,fructose,fungal,fungicide,fungiform,fungistatic,fungivore,fungoid,fusiform,galactagogue,galactic,galactic,galactose,galaxy,galaxy,gamete,gastric,gastritis,gastrolith,gastronome,gastronomy,gastropathy,gastropod,gastroscope,genome,genotype,geocentric,geography,geologist,geology,geomancer,geomancy,geometry,geomorphology,geophile,germicide,germophobe,germophobia,gerontocracy,gerontology,glossophobe,glossophobia,glyph,gnosis,gnostic,gnosticism,granolithic,graphology,gregarious,gyroscope,halitosis,halophile,hedonism,hedonist,helicoid,helicopter,heliocentric,heliograph,heliometer,heliophile,heliophilia,heliophobe,heliophobia,heliotherapy,heliotrope,helium,hemiptera,hemopathy,hemophilia,hemophobe,hemophobia,hemovore,hepatalgia,hepatopathy,heptagon,heptameter,heptarchy,herbal,herbalist,herbarium,herbicide,herbivore,herbivorous,heterochromatic,heterodox,heterogenous,heteropod,heteroptera,heteropterous,heterotroph,hexadecimal,hexagon,hexahedron,hexameter,hexapod,hexarchy,hibernation,hierarchy,hieroglyph,hippodrome,hippopotamus,histogram,homeostasis,homicide,hominoid,homogenous,homonym,homoptera,homopterous,horoscope,horrendous,horrible,horrid,horrific,horrifying,horror,horticulture,hydrocephaly,hydrology,hydromancy,hydrophilia,hydrophobe,hydrophobia,hydrophone,hydrosphere,hypermania,hyperpnea,hypertrophy,hypnagogic,hypnalgia,hypnoid,hypnophobe,hypnophobia,hypnosis,hypnotherapist,hypnotherapy,hypnotic,hypnotically,hypnotism,hypnotist,hypnotizable,hypnotize,hypodermic,hypodermic,hypomania,hypopnea,hypothalamus,hypothermia,iatrogenic,iatrophobe,iatrophobia,ichthyology,ichthyoplankton,ichthyosaur,iconic,iconoclast,icosahedron,idiolect,idiolect,idiophone,ignominy,illegality,illegitimacy,illegitimate,illiteracy,illiterate,illuminate,immigrant,immigration,immobile,immortal,immutable,impediment,impend,impending,imperturbable,implacable,inalienable,inanimate,inaudible,incessant,incivility,incredible,incredulous,independent,indict,indictment,indomitable,indubitable,inequality,inextricably,infinite,influence,influenza,influx,infrared,infrasonic,inhalation,injustice,innate,innocuous,inquiry,inquisition,inquisitive,inquisitor,insanity,inscribed,insecticide,insectivore,insectivorous,insomnia,insomniac,intact,intangible,integer,integrity,interdependent,intergalactic,intermediary,interment,interplanetary,interregnum,intersect,intersection,interstellar,intractable,intravenous,intrepid,introspection,introvert,invertebrate,inveterate,irrelevance,irrelevancy,irrelevant,isochrone,isogamy,isogloss,isogon,isograft,isogram,isometric,isopod,isosceles,isothermal,jurisdiction,juvenile,kakistocracy,kaleidoscope,keratin,keratosis,kilometer,kleptocracy,kleptomania,kleptomaniac,kryolith,lactase,lactation,lacteal,lacteous,lactic,lactose,laryngoscope,leaven,legal,legalize,legerdemain,legislate,legislation,legislator,legislature,legitimacy,legitimate,legitimation,legitimize,lepidoptera,lepidopterologist,lepidopterology,lepidopterophile,lepidopterophobe,levant,levee,lever,leverage,levitate,levitation,levity,levy,lignophagia,lingual,linguine,linguist,linguistics,literacy,literal,literally,literary,literate,literati,literature,lithemia,lithemia,lithic,lithify,lithium,lithograph,lithographer,lithographic,lithography,lithoid,lithology,lithophane,lithophone,lithophyte,lithosphere,lithotomy,loquacious,lucid,lucifer,luminary,luminiferous,luminosity,luminous,lunatic,macrocosm,macroeconomics,macrofossil,macrofungi,macrolepidoptera,macromolecule,macrophotography,macroscopic,magnanimous,magnificent,maladjusted,malaise,malaria,malcontent,malediction,malefactor,maleficent,malevolence,malevolent,malfeasance,malfunction,malice,malicious,malignant,malnutrition,malodorous,malpractice,maltreatment,manacles,manicure,marinate,marine,mariner,matriarch,matriarchy,matrilect,matrimony,matriphagous,matriphagy,matronym,median,mediation,mediocre,mediterranean,megabat,megalith,megalithic,megalomania,megalomaniac,megaphone,megapod,megatherium,megavirus,melancholy,melanin,mellifluous,mesencephalon,mesocarp,mesoderm,mesograzer,mesolect,meson,mesopotamia,mesosphere,metamorphosis,meteoroid,microbat,microbe,microbiology,microcephalic,microcephaly,microcosm,microeconomics,microfauna,microflora,microfossil,microfungi,microgram,micrograph,microlepidoptera,microlith,microlithic,micron,microorganism,microphone,microphotography,microphotometer,microscope,microscopic,microsecond,microtome,migrate,migration,migratory,militancy,millennium,millimeter,millipede,mime,mimeograph,mimesis,mimetic,mimic,mimicry,misanthrope,misfortune,misnomer,mnemonic,mob,mobile,mobility,mobilization,mobilize,mobocracy,mollify,monarch,monarchist,monarchy,monism,monocarp,monochromatic,monoculture,monogamy,monogastric,monogon,monogon,monogram,monograph,monolingual,monolith,monolithic,monologue,monomania,monomaniac,monomorphic,monophonic,monopod,monopoly,monosyllabic,monotheism,monotheistic,moribund,morpheus,morphine,mortality,mortification,motile,motility,motion,motivate,motivation,motive,motorcycle,multilateral,multilingual,murophile,murophilia,murophobe,murophobia,mutagen,mutant,mutation,mycoflora,mycology,mycorrhiza,myocardium,myopathic,myopathy,myrmecophile,myrmecophilia,myrmecophobe,myrmecophobia,nascent,natal,naumachy,nausea,nauseate,nauseating,nauseous,nautical,nautilus,nebula,nebular,nebulize,nebulous,necrology,necromancer,necromancy,necrophagous,necropolis,necropsy,necrosis,nectar,nectarivore,nekton,nektonic,neolithic,neologism,neonatal,neoorthodoxy,neophile,neophilia,neophobe,neophobia,neophobic,neophyte,neuter,neutral,neutrality,neutralization,neutralize,neutrino,neutron,nihilism,noctambulism,noctambulist,nocturnal,nomenclature,nominate,nonagon,nonet,nosologist,nosology,notochord,noxious,nullification,nullify,nyctophile,nyctophilia,nyctophobe,nyctophobia,obliterate,obliteration,octagon,octahedron,octal,octameter,octant,octarchy,octave,octet,octogenarian,octopus,octuple,octuplet,odometer,oligarch,oligarchy,oligochaete,oligopoly,ombrometer,omniarch,omnidirectional,omnipotent,omnipresent,omniscience,omniscient,omnivore,omphalitis,omphalos,omphaloskepsis,oneiric,oneirology,oneiromancy,oneironaut,oneirophobe,oneirophobia,onerous,ontogeny,ontology,ophthalmitis,ophthalmologist,ophthalmology,opthalmoscope,orb,orbit,orbital,ordinal,ornithocopter,ornithologist,ornithology,ornithomimid,ornithopod,ornithopter,ornithopter,orthodontist,orthodox,orthodoxy,orthogenesis,orthogonal,orthograde,orthographic,orthography,orthopedics,orthoptera,orthopteran,oscilloscope,ossicle,ossify,ossuary,osteoarthritis,osteology,osteoma,osteophagy,osteoporosis,osteoporosis,osteotomy,osteotomy,otolith,otology,otoscope,oval,oviform,oviparous,pachyderm,pachydermia,pacific,pacification,pacifism,pacifist,pacify,pandemic,pandemonium,pandoravirus,pangram,panic,panophobe,panophobia,panopticon,pansophism,pantheon,pantomime,paradox,paralect,parapodia,parasite,parasitism,parasol,parasomnia,pathogen,pathological,patriarch,patriarchy,patrician,patrilect,patrilineal,patrimony,patriot,patriotic,patriotism,patristics,patron,patronage,patronym,pedal,pedestal,pedestrian,pediculicide,pedicure,pediform,pedometer,pelagic,pendant,penguin,pentagon,pentahedron,pentameter,pentarchy,pentathlete,pentathlon,perennial,pericardium,pericarp,pericarp,period,periodic,periodontist,periscope,perissodactyl,perpendicular,pesticide,petrified,petrify,phenotype,philanthropist,philanthropy,philodendron,philologist,philology,philosopher,philosophy,phonautograph,phonograph,photoautotroph,photobiology,photochromism,photolithograph,photophobe,photophobia,photosphere,photosynthesis,photosynthetic,phototroph,phylogeny,physiopathology,pisciculture,pisciform,piscivore,piscivorous,placate,placebo,placid,placoderm,planet,planetarium,planetary,plankton,plateau,platelet,platyhelminth,platypus,platyrrhine,platysma,pneuma,pneumatic,pneumatology,pneumatophore,pneumograph,pneumonectomy,pneumonia,pneumostome,podiatrist,podiatry,podium,podocarp,podomancy,poison,polyandry,polyandry,polyatomic,polycarpy,polycentrism,polychaete,polychotomy,polychromatic,polydactylic,polydipsia,polygala,polygalactia,polygamy,polygastric,polygenesis,polyglot,polygon,polygraph,polygyny,polyhedron,polymer,polymorphic,polymorphism,polyphagous,polyphonic,polyphony,polypnea,polypod,polysemous,polysyllabic,polysynaptic,polytheism,porcupine,porpoise,postbiblical,posthypnotic,potable,potion,prebiblical,predict,predictable,prediction,predictive,prerequisite,prescient,primacy,primal,primarily,primary,primate,primatologist,primatology,prime,primer,primeval,primitive,primitivism,primogeniture,primordial,prism,proclamation,progeny,prognosis,prognostic,prognosticate,prognosticator,prokaryote,protocol,protoderm,protogalaxy,protohistorian,protohistory,protohuman,proton,protophyta,protoplanet,protoplasm,protopod,protostar,prototype,protozoa,protozoologist,protozoology,pseudepigraphy,pseudomorph,pseudonym,pseudopod,pseudorandom,pseudoscience,pseudoscope,pseudoscorpion,psychiatric,psychiatry,psycholinguistics,psychosis,psychosomatic,psychotic,psychotomimetic,pteranodon,pterodactyl,pteropod,pterosaur,pterygoid,punctual,punctuate,punctuation,puncture,pyrogen,pyromancy,pyromania,pyromaniac,pyrometer,pyrophobe,pyrophobia,quadrangle,quadrant,quadraphonic,quadrennium,quadricentennium,quadriceps,quadricycle,quadrilateral,quadrillion,quadripartite,quadrivium,quadruped,quadrupedal,quadruple,quantile,quartet,quartic,quartile,querulous,query,quintet,quintic,quintile,radiation,radiology,radiometer,ramiform,recyclable,recycle,reflux,regal,regent,regicide,regolith,reincarnation,relevance,relevancy,relevant,relief,relieve,renaissance,renal,reniform,renogram,renography,require,requirement,respiration,retardant,retraction,retrospective,rhinencephalon,rhinitis,rhinoceros,rhinoceros,rhinoplasty,rhinoscope,rhinovirus,rhizoid,rhizome,rhizomorph,rhizopus,rhizosphere,rhodium,rhododendron,rhynchocephalian,rhynchosaur,rodenticide,rotifer,rotiform,rupture,sane,sanitarium,sanitary,sanitation,sanity,saprophage,saprotroph,sarcocarp,sarcophagus,scalar,schizocarp,schizogony,schizoid,schizont ,schizophrenia,schizophrenic,schizopod,sclerometer,section,sediment,sedulous,segregation,selenium,selenocentric,selenography,selenologist,selenology,selenophobia,semiannual,senator,senectitude,senescence,senile,senility,senior,seniority,sentient,septet,sextet,similarity,similitude,sinecure,sinistrodextral,sociolect,sociology,solar,solarium,solarize,soliloquy,solitude,solstice,somatic,somnambulant,somnambulate,somnambulism,somnambulist,somnifacient,somniferous,somniloquy,somnolence,somnolent,spatiotemporal,spectroscope,spherical,spirochaete,squirrel,statolith,stellar,stellification,stereoscope,stereoscopic,stethoscope,stratiform,stultify,subaudible,sublingual,subterranean,superfluous,supernova,suspend,suspenders,suspense,suspension,symbiont,symbiosis,symbiotic,symmetry,sympatric,symphony,symposium,syncarp,syndactylism,synonym,tachycardia,tachyometer,tachyon,tacit,taciturn,tact,tactile,tangent,tangential,tangible,tardigrade,tardyon,taxidermy,technophile,technophilia,technophobe,technophobia,telegram,telegraph,telegraphist,telekinesis,telemeter,telepath,telepathy,telephone,teleport,teleportation,telescope,television,temporal,temporality,temporalize,temporarily,temporary,temporize,tenacious,tenacity,teratogen,terrace,terrain,terrarium,terrestrial,terrier,territorial,territory,tetrachord,tetrad,tetragon,tetragrammaton,tetrahedron,tetralogy,tetrameter,tetrarchy,thalamus,theocentric,theocracy,theologian,theology,thermoformation,thermometer,thermophile,thermophilia,thermophobe,thermophobia,thermoscope,timidity,timorous,titaniferous,topolect,toponym,torque,torsion,tortrix,tortuous,toxicology,transfer,transliteration,trepidation,triad,triangle,triarchy,triathlete,triathlon,tricephalic,triceps,triceratops,trichoptera,tricycle,trident,triennial,trigonometry,trihedron,trilingual,trilith,trilogy,trimeter,trio,triple,triplet,triplicate,tripod,triskadekaphobe,triskadekaphobia,triskelion,trivia,trivial,turbulence,tyrannicide,ultrasonic,unanimity,unanimous,uncivilized,unfortunate,unguligrade,unicellular,unicycle,uniform,unilateral,unorthodox,unpatriotic,unpredictable,unsanitary,untenable,utopia,valedictorian,variable,variance,variform,vast,vector,velocipede,venerable,veneration,ventriloquist,ventriloquy,veracity,verdict,verify,verisimilitude,vermicide,vermiculture,vermiform,vermin,vertebrate,vertex,vertical,veteran,viniculture,viniferous,virulence,virulent,virus,voracious,vulcanology,xenobiotic,xenogamy,xenogenesis,xenolect,xenolith,xenology,xenon,xenophile,xenophilia,xenophobe,xenophobia,xeroderma,xerophagy,xerophile,xerophthalmia,xerophyte,xylocarp,xyloid,xylophage,xylophagous,xylophagy,xylophobia,xylophone,xylotomy,zodiac,zoogony,zoology,zoonosis,zoopathology,zoophobe,zoophobia,zygodactyl,zygote\".split(\",\")"
   ]
  },
  {
   "cell_type": "markdown",
   "metadata": {},
   "source": [
    "***\n",
    "***HELPERS***\n",
    "***"
   ]
  },
  {
   "cell_type": "code",
   "execution_count": 50,
   "metadata": {},
   "outputs": [],
   "source": [
    "def visualize(doc):\n",
    "    # https://spacy.io/api/top-level#displacy_options\n",
    "    options= {\n",
    "        \"compact\":True,\n",
    "        \"distance\":100,\n",
    "    }\n",
    "    displacy.render(doc, style='dep',jupyter=True,options=options)    \n",
    "    \n",
    "def describe(sentence):\n",
    "    doc = nlp((sentence))\n",
    "    visualize(doc)\n",
    "    print(json.dumps(doc.to_json(), indent=1))    \n",
    "    \n",
    "def first_or_none(lst):\n",
    "    return None if len(lst) == 0 else lst[0]    \n",
    "\n",
    "def flatten(lst):\n",
    "    return [item for sublist in lst for item in sublist]"
   ]
  },
  {
   "cell_type": "markdown",
   "metadata": {},
   "source": [
    "***\n",
    "***DEPENDENCY TREE PARSING METHODS***\n",
    "***"
   ]
  },
  {
   "cell_type": "code",
   "execution_count": 79,
   "metadata": {},
   "outputs": [],
   "source": [
    "def children_for(json_doc, head_id, recursive=False):\n",
    "    \"\"\"Recursively find the children and the children's children for a word in a dependency tree.\n",
    "    \n",
    "    \n",
    "    \"\"\"    \n",
    "    results = []\n",
    "    \n",
    "    for x in json_doc[\"tokens\"]:\n",
    "        if x[\"head\"] == head_id and x[\"id\"] != head_id:\n",
    "            results.append(x)\n",
    "            \n",
    "    if recursive and len(results) > 0:\n",
    "        return results + flatten([children_for(json_doc, r[\"id\"], True) for r in results])\n",
    "    else:\n",
    "        return results\n",
    "\n",
    "def find_token_by_attr(tokens, attr, value):\n",
    "    results = [t for t in tokens if t[attr] == value]\n",
    "    return first_or_none(results)\n",
    "\n",
    "def filter_tokens_by_attr(tokens, attr, value):\n",
    "    return [t for t in tokens if t[attr] != value]\n",
    "\n",
    "def filter_tokens_by_attrs(tokens, k_v_pairs):\n",
    "    for key, value in k_v_pairs:\n",
    "        tokens = filter_tokens_by_attr(tokens, key, value)\n",
    "    return tokens\n",
    "\n",
    "def select_tokens_by_attr(tokens, attr, value):\n",
    "    return [t for t in tokens if t[attr] == value]\n",
    "\n",
    "def select_tokens_by_attrs(tokens, k_v_pairs):\n",
    "    result = []\n",
    "    for key, value in k_v_pairs:\n",
    "        result += select_tokens_by_attr(tokens, key, value)\n",
    "    return result\n",
    "\n",
    "def get_verbs(json_doc, only=None):\n",
    "    results = []\n",
    "    for x in json_doc[\"tokens\"]:\n",
    "        value = value_for_token(x, json_doc)\n",
    "        is_verb = x[\"pos\"] in VERB_TAGS\n",
    "        include = only is None or value in only\n",
    "        if is_verb and include:\n",
    "            results.append(x)\n",
    "    return results\n",
    "\n",
    "def sorted_values(tokens, json_doc):\n",
    "    return [t for t in sorted(tokens, key=lambda w: w[\"id\"])]\n",
    "\n",
    "def value_for_token(token, json_doc):\n",
    "    return json_doc[\"text\"][token[\"start\"]:token[\"end\"]].lower()\n",
    "\n",
    "VALID_PREDICATE_K_V_PAIRS = [\n",
    "    (\"dep\",\"acomp\"),\n",
    "    (\"dep\",\"amod\"),\n",
    "    (\"dep\",\"attr\")\n",
    "]\n",
    "\n",
    "def VERBOSE_print(msg, VERBOSE):\n",
    "    if VERBOSE:\n",
    "        print(msg)\n",
    "\n",
    "# primary entry point\n",
    "def mine(json_doc, verbs, VERBOSE):\n",
    "    results = []\n",
    "    \n",
    "    for verb in get_verbs(json_doc, verbs):\n",
    "        children = children_for(json_doc, verb[\"id\"])\n",
    "        VERBOSE_print(f\"parsing verb {value_for_token(verb, json_doc)}...\", VERBOSE)\n",
    "        subject = find_token_by_attr(children, \"dep\", \"nsubj\")     \n",
    "        if subject is None:\n",
    "            continue\n",
    "            \n",
    "        VERBOSE_print(f\"\\n\\tsubject is: {value_for_token(subject, json_doc)}\", VERBOSE)\n",
    "        predicates = select_tokens_by_attrs(children, VALID_PREDICATE_K_V_PAIRS)\n",
    "                    \n",
    "        subject_deps = children_for(json_doc, subject[\"id\"])\n",
    "        subject_deps = filter_tokens_by_attrs(subject_deps, [(\"pos\", \"DET\"),(\"pos\", \"PUNCT\")])\n",
    "        VERBOSE_print(f\"\\t\\tdependencies are: {', '.join([value_for_token(o, json_doc) for o in subject_deps])}\", VERBOSE)\n",
    "        word = [subject] + subject_deps\n",
    "        \n",
    "        properties = []\n",
    "        \n",
    "        VERBOSE_print(f\"\\n\\tpredicates are: {', '.join([value_for_token(o, json_doc) for o in predicates])}\", VERBOSE)\n",
    "        \n",
    "        for o in predicates:\n",
    "            VERBOSE_print(f\"\\n\\tparsing predicate {value_for_token(o, json_doc)}...\", VERBOSE)\n",
    "            properties.append(o)            \n",
    "            other_deps = children_for(json_doc, o[\"id\"], True)\n",
    "            filtered = filter_tokens_by_attrs(other_deps, [(\"pos\", \"DET\")])\n",
    "            VERBOSE_print(f\"\\t\\tdependencies are: {', '.join([value_for_token(o, json_doc) for o in filtered])}\", VERBOSE)\n",
    "            properties += filtered\n",
    "                  \n",
    "        \n",
    "        word = sorted_values(word, json_doc)\n",
    "        properties = sorted_values(properties, json_doc)\n",
    "        \n",
    "        joined = \" \".join([value_for_token(t,json_doc) for t in word]) \\\n",
    "            + \" - \" \\\n",
    "            + \" \".join([value_for_token(t,json_doc) for t in properties])\n",
    "\n",
    "            \n",
    "        results.append({\"subject\":word, \"properties\":properties, \"joined\":joined})\n",
    "        \n",
    "    return results\n",
    "\n",
    "def mine_sentence(sentence):\n",
    "    return mine_json_doc(nlp((sentence)).to_json(), COPULAS)"
   ]
  },
  {
   "cell_type": "markdown",
   "metadata": {},
   "source": [
    "***\n",
    "***RANDOM WIKIPEDIA TEST***\n",
    "***"
   ]
  },
  {
   "cell_type": "code",
   "execution_count": 92,
   "metadata": {},
   "outputs": [],
   "source": [
    "def get_lemmas(tokens):\n",
    "    return [t[\"lemma\"]for t in tokens]\n",
    "\n",
    "def wordcraft_words_in(prop):\n",
    "    lemmas = get_lemmas(prop[\"subject\"]) + get_lemmas(prop[\"properties\"])\n",
    "    words = [w for w in WORDCRAFT_WORDS if w in lemmas]\n",
    "    return {\"words\":words,\"count\":len(words)}\n",
    "\n",
    "def has_wordcraft_word(prop):\n",
    "    return wordcraft_words_in(prop)[\"count\"] > 0\n",
    "\n",
    "def insert_str(string, str_to_insert, index):\n",
    "    return string[:index] + str_to_insert + string[index:]   \n",
    "\n",
    "def get_sample_wikipedia():\n",
    "    url = \"https://olivers-things.s3.amazonaws.com/sample-wikipedia.json\"\n",
    "    articles = requests.get(url).json()\n",
    "    print(f\"fetched {len(articles)} articles\")\n",
    "    return articles\n",
    "\n",
    "def mine_wikipedia_articles(limit = 25):\n",
    "    results = \"\"\n",
    "\n",
    "    random.shuffle(articles)\n",
    "\n",
    "    for article in articles[0:limit]:\n",
    "        for sentence in article[\"sentences\"]:\n",
    "            doc = nlp(sentence)\n",
    "            json_doc = doc.to_json()\n",
    "            properties = mine(json_doc, COPULAS, False)\n",
    "            properties = [p for p in properties if has_wordcraft_word(p)]\n",
    "\n",
    "            count = sum([wordcraft_words_in(p)[\"count\"] for p in properties])\n",
    "            words = flatten([wordcraft_words_in(p)[\"words\"] for p in properties])\n",
    "            ranges = sorted(flatten([p[\"subject\"] + p[\"properties\"] for p in properties]), key=lambda w: w[\"start\"])\n",
    "\n",
    "            increment = 0\n",
    "            for r in ranges:\n",
    "                start_str = '<span style=\"color:blue;\">'\n",
    "                sentence = insert_str(sentence, start_str, r[\"start\"] + increment)\n",
    "                increment += len(start_str)\n",
    "                end_str = '</span>'\n",
    "                sentence = insert_str(sentence, end_str, r[\"end\"] + increment)\n",
    "                increment += len(end_str)\n",
    "                tagged = \"<p>\" + sentence + \"</p>\"\n",
    "\n",
    "            if len(properties) > 0:\n",
    "                # results += f\"<h5>{article['title']}</h5>\"\n",
    "                results += \"<h4 style='margin-top:15pxl'>\" + \"\\n\".join([p[\"joined\"] for p in properties]) + \"</h4>\"\n",
    "                # results += f\"<p style='margin:5px 0;font-size:0.9em'><i>found {', '.join(words)}</i></p>\"\n",
    "                # results += \"<p style='margin:5px 0'><i>\" + \"\\n\".join([p[\"joined\"] for p in properties]) + \"</i></p>\"\n",
    "                results += tagged\n",
    "    \n",
    "    return results"
   ]
  },
  {
   "cell_type": "code",
   "execution_count": 53,
   "metadata": {},
   "outputs": [
    {
     "name": "stdout",
     "output_type": "stream",
     "text": [
      "fetched 445 articles\n"
     ]
    }
   ],
   "source": [
    "articles = get_sample_wikipedia()"
   ]
  },
  {
   "cell_type": "code",
   "execution_count": 93,
   "metadata": {},
   "outputs": [
    {
     "data": {
      "text/html": [
       "<h4>altruism - principle and moral practice of concern for happiness of other human beings or animals</h4><p><span style=\"color:blue;\">Altruism</span> is the <span style=\"color:blue;\">principle</span> <span style=\"color:blue;\">and</span> <span style=\"color:blue;\">moral</span> <span style=\"color:blue;\">practice</span> <span style=\"color:blue;\">of</span> <span style=\"color:blue;\">concern</span> <span style=\"color:blue;\">for</span> <span style=\"color:blue;\">happiness</span> <span style=\"color:blue;\">of</span> <span style=\"color:blue;\">other</span> <span style=\"color:blue;\">human</span> <span style=\"color:blue;\">beings</span> <span style=\"color:blue;\">or</span> <span style=\"color:blue;\">animals</span>, resulting in a quality of life both material and spiritual.</p><h4>altruism in - individual performing action is at cost to themselves ( e.g. , pleasure and quality of life , time , probability of survival or reproduction ) , but benefits , either directly or indirectly , third - party individual , without expectation of reciprocity or compensation for action</h4><p><span style=\"color:blue;\">Altruism</span> <span style=\"color:blue;\">in</span> biological observations in field populations of the day organisms is an <span style=\"color:blue;\">individual</span> <span style=\"color:blue;\">performing</span> an <span style=\"color:blue;\">action</span> which <span style=\"color:blue;\">is</span> <span style=\"color:blue;\">at</span> a <span style=\"color:blue;\">cost</span> <span style=\"color:blue;\">to</span> <span style=\"color:blue;\">themselves</span> <span style=\"color:blue;\">(</span><span style=\"color:blue;\">e.g.</span><span style=\"color:blue;\">,</span> <span style=\"color:blue;\">pleasure</span> <span style=\"color:blue;\">and</span> <span style=\"color:blue;\">quality</span> <span style=\"color:blue;\">of</span> <span style=\"color:blue;\">life</span><span style=\"color:blue;\">,</span> <span style=\"color:blue;\">time</span><span style=\"color:blue;\">,</span> <span style=\"color:blue;\">probability</span> <span style=\"color:blue;\">of</span> <span style=\"color:blue;\">survival</span> <span style=\"color:blue;\">or</span> <span style=\"color:blue;\">reproduction</span><span style=\"color:blue;\">)</span><span style=\"color:blue;\">,</span> <span style=\"color:blue;\">but</span> <span style=\"color:blue;\">benefits</span><span style=\"color:blue;\">,</span> <span style=\"color:blue;\">either</span> <span style=\"color:blue;\">directly</span> <span style=\"color:blue;\">or</span> <span style=\"color:blue;\">indirectly</span><span style=\"color:blue;\">,</span> another <span style=\"color:blue;\">third</span><span style=\"color:blue;\">-</span><span style=\"color:blue;\">party</span> <span style=\"color:blue;\">individual</span><span style=\"color:blue;\">,</span> <span style=\"color:blue;\">without</span> the <span style=\"color:blue;\">expectation</span> <span style=\"color:blue;\">of</span> <span style=\"color:blue;\">reciprocity</span> <span style=\"color:blue;\">or</span> <span style=\"color:blue;\">compensation</span> <span style=\"color:blue;\">for</span> that <span style=\"color:blue;\">action</span>.</p><h4>effective altruism - use of evidence and reason to determine most effective ways to benefit others</h4><p><span style=\"color:blue;\">Effective</span> <span style=\"color:blue;\">altruism</span> is the <span style=\"color:blue;\">use</span> <span style=\"color:blue;\">of</span> <span style=\"color:blue;\">evidence</span> <span style=\"color:blue;\">and</span> <span style=\"color:blue;\">reason</span> <span style=\"color:blue;\">to</span> <span style=\"color:blue;\">determine</span> the <span style=\"color:blue;\">most</span> <span style=\"color:blue;\">effective</span> <span style=\"color:blue;\">ways</span> <span style=\"color:blue;\">to</span> <span style=\"color:blue;\">benefit</span> <span style=\"color:blue;\">others</span>.</p><h4>alms - fruits of moral notion of gift and of fortune on one hand</h4><p><span style=\"color:blue;\">Alms</span> are the <span style=\"color:blue;\">fruits</span> <span style=\"color:blue;\">of</span> a <span style=\"color:blue;\">moral</span> <span style=\"color:blue;\">notion</span> <span style=\"color:blue;\">of</span> the <span style=\"color:blue;\">gift</span> <span style=\"color:blue;\">and</span> <span style=\"color:blue;\">of</span> <span style=\"color:blue;\">fortune</span> <span style=\"color:blue;\">on</span> the <span style=\"color:blue;\">one</span> <span style=\"color:blue;\">hand</span>, and of a notion of sacrifice, on the other.</p><h4>benefits from - very high</h4><p>This need not imply that on average 50% or more of altruistic acts were beneficial for the altruist in the ancestral environment; if the <span style=\"color:blue;\">benefits</span> <span style=\"color:blue;\">from</span> helping the right person were <span style=\"color:blue;\">very</span> <span style=\"color:blue;\">high</span> it would be beneficial to err on the side of caution and usually be altruistic even if in most cases there were no benefits.</p><h4>toddler - capable of understanding subtle emotional cues</h4><p>Helping behavior is seen in humans at about two years old, when a <span style=\"color:blue;\">toddler</span> is <span style=\"color:blue;\">capable</span> <span style=\"color:blue;\">of</span> <span style=\"color:blue;\">understanding</span> <span style=\"color:blue;\">subtle</span> <span style=\"color:blue;\">emotional</span> <span style=\"color:blue;\">cues</span>.</p><h4>motivation of - focus of study</h4><p>The <span style=\"color:blue;\">motivation</span> <span style=\"color:blue;\">of</span> altruism is also the <span style=\"color:blue;\">focus</span> <span style=\"color:blue;\">of</span> <span style=\"color:blue;\">study</span>; some publications link the occurrence of moral outrage to the punishment of perpetrators and compensation of victims.</p><h4>generosity in - contagious</h4><p>Studies have shown that <span style=\"color:blue;\">generosity</span> <span style=\"color:blue;\">in</span> laboratory and in online experiments is <span style=\"color:blue;\">contagious</span> – people imitate observed generosity of others.</p><h4>pathological altruism - </h4><p><span style=\"color:blue;\">Pathological</span> <span style=\"color:blue;\">altruism</span> is when altruism is taken to an unhealthy extreme, and either harms the altruistic person, or well-intentioned actions cause more harm than good.</p><h4>apurva - non - sentient</h4><p>Since <span style=\"color:blue;\">apurva</span> is <span style=\"color:blue;\">non</span><span style=\"color:blue;\">-</span><span style=\"color:blue;\">sentient</span>, it cannot act unless moved by an intelligent being such as a god.</p><h4>effective altruism - philosophy and social movement uses evidence and reasoning to determine most effective ways to benefit others</h4><p><span style=\"color:blue;\">Effective</span> <span style=\"color:blue;\">altruism</span> is a <span style=\"color:blue;\">philosophy</span> <span style=\"color:blue;\">and</span> <span style=\"color:blue;\">social</span> <span style=\"color:blue;\">movement</span> that <span style=\"color:blue;\">uses</span> <span style=\"color:blue;\">evidence</span> <span style=\"color:blue;\">and</span> <span style=\"color:blue;\">reasoning</span> <span style=\"color:blue;\">to</span> <span style=\"color:blue;\">determine</span> the <span style=\"color:blue;\">most</span> <span style=\"color:blue;\">effective</span> <span style=\"color:blue;\">ways</span> <span style=\"color:blue;\">to</span> <span style=\"color:blue;\">benefit</span> <span style=\"color:blue;\">others</span>.</p><h4>it - broad , evidence - based and cause - neutral approach distinguishes effective altruism from traditional altruism or charity</h4><p><span style=\"color:blue;\">It</span> is the <span style=\"color:blue;\">broad</span><span style=\"color:blue;\">,</span> <span style=\"color:blue;\">evidence</span><span style=\"color:blue;\">-</span><span style=\"color:blue;\">based</span> <span style=\"color:blue;\">and</span> <span style=\"color:blue;\">cause</span><span style=\"color:blue;\">-</span><span style=\"color:blue;\">neutral</span> <span style=\"color:blue;\">approach</span> that <span style=\"color:blue;\">distinguishes</span> <span style=\"color:blue;\">effective</span> <span style=\"color:blue;\">altruism</span> <span style=\"color:blue;\">from</span> <span style=\"color:blue;\">traditional</span> <span style=\"color:blue;\">altruism</span> <span style=\"color:blue;\">or</span> <span style=\"color:blue;\">charity</span>.</p><h4>algol - three - star system , consisting of beta persei aa1 , aa2 , and ab – in hot luminous primary β persei aa1 and larger , but cooler and fainter , β persei aa2 regularly pass in front of other , causing eclipses</h4><p><span style=\"color:blue;\">Algol</span> is a <span style=\"color:blue;\">three</span><span style=\"color:blue;\">-</span><span style=\"color:blue;\">star</span> <span style=\"color:blue;\">system</span><span style=\"color:blue;\">,</span> <span style=\"color:blue;\">consisting</span> <span style=\"color:blue;\">of</span> <span style=\"color:blue;\">Beta</span> <span style=\"color:blue;\">Persei</span> <span style=\"color:blue;\">Aa1</span><span style=\"color:blue;\">,</span> <span style=\"color:blue;\">Aa2</span><span style=\"color:blue;\">,</span> <span style=\"color:blue;\">and</span> <span style=\"color:blue;\">Ab</span> <span style=\"color:blue;\">–</span> <span style=\"color:blue;\">in</span> which the <span style=\"color:blue;\">hot</span> <span style=\"color:blue;\">luminous</span> <span style=\"color:blue;\">primary</span> <span style=\"color:blue;\">β</span> <span style=\"color:blue;\">Persei</span> <span style=\"color:blue;\">Aa1</span> <span style=\"color:blue;\">and</span> the <span style=\"color:blue;\">larger</span><span style=\"color:blue;\">,</span> <span style=\"color:blue;\">but</span> <span style=\"color:blue;\">cooler</span> <span style=\"color:blue;\">and</span> <span style=\"color:blue;\">fainter</span><span style=\"color:blue;\">,</span> <span style=\"color:blue;\">β</span> <span style=\"color:blue;\">Persei</span> <span style=\"color:blue;\">Aa2</span> <span style=\"color:blue;\">regularly</span> <span style=\"color:blue;\">pass</span> <span style=\"color:blue;\">in</span> <span style=\"color:blue;\">front</span> <span style=\"color:blue;\">of</span> each <span style=\"color:blue;\">other</span><span style=\"color:blue;\">,</span> <span style=\"color:blue;\">causing</span> <span style=\"color:blue;\">eclipses</span>.</p><h4>algol - multiple - star system with three confirmed and two suspected stellar components</h4><p><span style=\"color:blue;\">Algol</span> is a <span style=\"color:blue;\">multiple</span><span style=\"color:blue;\">-</span><span style=\"color:blue;\">star</span> <span style=\"color:blue;\">system</span> <span style=\"color:blue;\">with</span> <span style=\"color:blue;\">three</span> <span style=\"color:blue;\">confirmed</span> <span style=\"color:blue;\">and</span> <span style=\"color:blue;\">two</span> <span style=\"color:blue;\">suspected</span> <span style=\"color:blue;\">stellar</span> <span style=\"color:blue;\">components</span>.</p><h4>mutual orbital period of - 681 earth days</h4><p>The eclipsing binary pair is separated by only 0.062 astronomical units (au) from each other, whereas the third star in the system (Algol Ab) is at an average distance of 2.69 au from the pair, and the <span style=\"color:blue;\">mutual</span> <span style=\"color:blue;\">orbital</span> <span style=\"color:blue;\">period</span> <span style=\"color:blue;\">of</span> the trio is <span style=\"color:blue;\">681</span> <span style=\"color:blue;\">Earth</span> <span style=\"color:blue;\">days</span>.</p><h4>total mass of - about 5.8 solar masses</h4><p>The <span style=\"color:blue;\">total</span> <span style=\"color:blue;\">mass</span> <span style=\"color:blue;\">of</span> the system is <span style=\"color:blue;\">about</span> <span style=\"color:blue;\">5.8</span> <span style=\"color:blue;\">solar</span> <span style=\"color:blue;\">masses</span>, and the mass ratios of Aa1, Aa2, and Ab are about 4.5 to 1 to 2.</p><h4>mass transfer between - small</h4><p><span style=\"color:blue;\">Mass</span> <span style=\"color:blue;\">transfer</span> <span style=\"color:blue;\">between</span> the components is <span style=\"color:blue;\">small</span> in the Algol system but could be a significant source of period change in other Algol-type binaries.</p><h4>total mass of - about 5.8 solar masses</h4><p>Because the <span style=\"color:blue;\">total</span> <span style=\"color:blue;\">mass</span> <span style=\"color:blue;\">of</span> the Algol system is <span style=\"color:blue;\">about</span> <span style=\"color:blue;\">5.8</span> <span style=\"color:blue;\">solar</span> <span style=\"color:blue;\">masses</span>, at the closest approach this might have given enough gravity to perturb the Oort cloud of the Solar System somewhat and hence increase the number of comets entering the inner Solar System.</p><h4>judiciary - independent of executive and legislature</h4><p>The <span style=\"color:blue;\">Judiciary</span> is <span style=\"color:blue;\">independent</span> <span style=\"color:blue;\">of</span> the <span style=\"color:blue;\">executive</span> <span style=\"color:blue;\">and</span> the <span style=\"color:blue;\">legislature</span>.</p><h4>prime minister - leader of majority party in house</h4><p>The <span style=\"color:blue;\">prime</span> <span style=\"color:blue;\">minister</span> is the <span style=\"color:blue;\">leader</span> <span style=\"color:blue;\">of</span> the <span style=\"color:blue;\">majority</span> <span style=\"color:blue;\">party</span> <span style=\"color:blue;\">in</span> the <span style=\"color:blue;\">House</span> and conducts affairs of state with the cabinet.</p><h4>prime minister and cabinet - responsible to parliament</h4><p>The <span style=\"color:blue;\">prime</span> <span style=\"color:blue;\">minister</span> <span style=\"color:blue;\">and</span> the <span style=\"color:blue;\">cabinet</span> are <span style=\"color:blue;\">responsible</span> <span style=\"color:blue;\">to</span> the <span style=\"color:blue;\">Parliament</span>.</p>"
      ],
      "text/plain": [
       "<IPython.core.display.HTML object>"
      ]
     },
     "execution_count": 93,
     "metadata": {},
     "output_type": "execute_result"
    }
   ],
   "source": [
    "html_print(mine_wikipedia_articles(3))"
   ]
  },
  {
   "cell_type": "code",
   "execution_count": null,
   "metadata": {},
   "outputs": [],
   "source": []
  },
  {
   "cell_type": "code",
   "execution_count": null,
   "metadata": {},
   "outputs": [],
   "source": []
  },
  {
   "cell_type": "code",
   "execution_count": null,
   "metadata": {},
   "outputs": [],
   "source": []
  },
  {
   "cell_type": "code",
   "execution_count": null,
   "metadata": {},
   "outputs": [],
   "source": []
  },
  {
   "cell_type": "code",
   "execution_count": null,
   "metadata": {},
   "outputs": [],
   "source": []
  },
  {
   "cell_type": "code",
   "execution_count": null,
   "metadata": {},
   "outputs": [],
   "source": []
  },
  {
   "cell_type": "markdown",
   "metadata": {},
   "source": [
    "***\n",
    "***TEST***\n",
    "***"
   ]
  },
  {
   "cell_type": "code",
   "execution_count": 9,
   "metadata": {},
   "outputs": [],
   "source": [
    "sentence_group_1 = [\"The whale is an animal.\",\n",
    "\"The blue whale is an animal.\",\n",
    "\"The whale is a quadrupedal mammal.\",\n",
    "\"The chameleon is a polychromatic arboreal insectivore.\",\n",
    "\"Carnivorous spiders are common.\",\n",
    "\"All cephalopods are nocturnal.\",\n",
    "\"The majority of cephalopods are nocturnal.\",\n",
    "\"Some cephalopods are nocturnal.\",\n",
    "\"No cephalopods are nocturnal.\",\n",
    "\"Most terrestrial gastropods are hermaphrodites.\",\n",
    "\"The simplest gastropods are the limpets and abalone.\",\n",
    "\"A cephalopod is any member of the molluscan class Cephalopoda such as a squid, octopus, cuttlefish, or nautilus.\",\n",
    "\"Gastropods were described as gastropodes by Georges Cuiver.\",\n",
    "\"Cephalopods are widely regarded as the most intelligent of the invertebrates.\"]\n",
    "\n",
    "sentence_group_2 = [\"The fastest biped is the ostrich.\",\n",
    "\"Not all tetrapods are quadrupeds and not all quadrupeds are tetrapods.\",\n",
    "\"A tripod stance is a behaviour in which quadruped animals rear up on their hind legs and use their tail to support their weight.\",\n",
    "\"Brontosaurus (meaning \\\"thunder lizard\\\" from Greek βροντή, \\\"thunder\\\" and σαῦρος, \\\"lizard\\\") is a genus of gigantic quadruped sauropod dinosaurs.\",\n",
    "\"Conrad Gessner (1516–1565) was a Swiss naturalist and bibliographer and one of founding figures of modern zoology.\",\n",
    "\"Sound waves with frequency above 20 kHz are called ultrasonic waves and are inaudble to humans, but some animals, like bats and dolphins, use them.\",\n",
    "\"A timer is a kind of clock for measuring time intervals, often with an audible alarm that the time is up.\",\n",
    "\"There is a debate among audiophiles on whether there is an audible difference between tubes and transistors in sound equipment.\",\n",
    "\"A Geiger counter is an instrument that measures ionizing radiation such as alpha particles, beta particles, or gamma rays. The radiation sensor produces a series of audible clicks when radiation is present.\",\n",
    "\"Autophagy is the process that cells use to break down and recycle cellular components.\"]"
   ]
  },
  {
   "cell_type": "code",
   "execution_count": 40,
   "metadata": {},
   "outputs": [
    {
     "name": "stdout",
     "output_type": "stream",
     "text": [
      "parsing verb is...\n",
      "\n",
      "\tsubject is: whale\n",
      "\t\tdependencies are: \n",
      "\n",
      "\tpredicates are: animal\n",
      "\n",
      "\tparsing predicate animal...\n",
      "\t\tdependencies are: \n",
      "\n",
      "\n",
      "[{'properties': [{'dep': 'attr',\n",
      "                  'end': 22,\n",
      "                  'head': 2,\n",
      "                  'id': 4,\n",
      "                  'lemma': 'animal',\n",
      "                  'morph': 'Number=Sing',\n",
      "                  'pos': 'NOUN',\n",
      "                  'start': 16,\n",
      "                  'tag': 'NN'}],\n",
      "  'subject': [{'dep': 'nsubj',\n",
      "               'end': 9,\n",
      "               'head': 2,\n",
      "               'id': 1,\n",
      "               'lemma': 'whale',\n",
      "               'morph': 'Number=Sing',\n",
      "               'pos': 'NOUN',\n",
      "               'start': 4,\n",
      "               'tag': 'NN'}]}]\n"
     ]
    }
   ],
   "source": [
    "import pprint\n",
    "\n",
    "for sentence in sentence_group_1[0:1]:\n",
    "    json_doc = nlp((sentence)).to_json()\n",
    "    predictions = mine(json_doc, COPULAS)\n",
    "    print(\"\\n\")\n",
    "    pprint.pprint(predictions)"
   ]
  },
  {
   "cell_type": "code",
   "execution_count": 25,
   "metadata": {},
   "outputs": [
    {
     "data": {
      "text/plain": [
       "'adjectival complement'"
      ]
     },
     "execution_count": 25,
     "metadata": {},
     "output_type": "execute_result"
    }
   ],
   "source": [
    "spacy.explain(\"acomp\")"
   ]
  },
  {
   "cell_type": "code",
   "execution_count": null,
   "metadata": {},
   "outputs": [],
   "source": []
  }
 ],
 "metadata": {
  "kernelspec": {
   "display_name": "Python 3",
   "language": "python",
   "name": "python3"
  },
  "language_info": {
   "codemirror_mode": {
    "name": "ipython",
    "version": 3
   },
   "file_extension": ".py",
   "mimetype": "text/x-python",
   "name": "python",
   "nbconvert_exporter": "python",
   "pygments_lexer": "ipython3",
   "version": "3.8.8"
  }
 },
 "nbformat": 4,
 "nbformat_minor": 4
}
