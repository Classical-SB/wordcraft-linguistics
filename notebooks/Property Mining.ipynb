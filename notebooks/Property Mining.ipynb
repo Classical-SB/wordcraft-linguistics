{
 "cells": [
  {
   "cell_type": "code",
   "execution_count": 1,
   "metadata": {},
   "outputs": [
    {
     "name": "stdout",
     "output_type": "stream",
     "text": [
      "Requirement already satisfied: en_core_web_sm==2.3.1 from https://github.com/explosion/spacy-models/releases/download/en_core_web_sm-2.3.1/en_core_web_sm-2.3.1.tar.gz#egg=en_core_web_sm==2.3.1 in /opt/miniconda3/lib/python3.8/site-packages (2.3.1)\n",
      "Requirement already satisfied: spacy<2.4.0,>=2.3.0 in /opt/miniconda3/lib/python3.8/site-packages (from en_core_web_sm==2.3.1) (2.3.2)\n",
      "Requirement already satisfied: cymem<2.1.0,>=2.0.2 in /opt/miniconda3/lib/python3.8/site-packages (from spacy<2.4.0,>=2.3.0->en_core_web_sm==2.3.1) (2.0.3)\n",
      "Requirement already satisfied: blis<0.5.0,>=0.4.0 in /opt/miniconda3/lib/python3.8/site-packages (from spacy<2.4.0,>=2.3.0->en_core_web_sm==2.3.1) (0.4.1)\n",
      "Requirement already satisfied: setuptools in /opt/miniconda3/lib/python3.8/site-packages (from spacy<2.4.0,>=2.3.0->en_core_web_sm==2.3.1) (47.1.1.post20200604)\n",
      "Requirement already satisfied: srsly<1.1.0,>=1.0.2 in /opt/miniconda3/lib/python3.8/site-packages (from spacy<2.4.0,>=2.3.0->en_core_web_sm==2.3.1) (1.0.2)\n",
      "Requirement already satisfied: plac<1.2.0,>=0.9.6 in /opt/miniconda3/lib/python3.8/site-packages (from spacy<2.4.0,>=2.3.0->en_core_web_sm==2.3.1) (1.1.3)\n",
      "Requirement already satisfied: tqdm<5.0.0,>=4.38.0 in /opt/miniconda3/lib/python3.8/site-packages (from spacy<2.4.0,>=2.3.0->en_core_web_sm==2.3.1) (4.46.0)\n",
      "Requirement already satisfied: murmurhash<1.1.0,>=0.28.0 in /opt/miniconda3/lib/python3.8/site-packages (from spacy<2.4.0,>=2.3.0->en_core_web_sm==2.3.1) (1.0.2)\n",
      "Requirement already satisfied: requests<3.0.0,>=2.13.0 in /opt/miniconda3/lib/python3.8/site-packages (from spacy<2.4.0,>=2.3.0->en_core_web_sm==2.3.1) (2.23.0)\n",
      "Requirement already satisfied: numpy>=1.15.0 in /opt/miniconda3/lib/python3.8/site-packages (from spacy<2.4.0,>=2.3.0->en_core_web_sm==2.3.1) (1.16.3)\n",
      "Requirement already satisfied: catalogue<1.1.0,>=0.0.7 in /opt/miniconda3/lib/python3.8/site-packages (from spacy<2.4.0,>=2.3.0->en_core_web_sm==2.3.1) (1.0.0)\n",
      "Requirement already satisfied: thinc==7.4.1 in /opt/miniconda3/lib/python3.8/site-packages (from spacy<2.4.0,>=2.3.0->en_core_web_sm==2.3.1) (7.4.1)\n",
      "Requirement already satisfied: wasabi<1.1.0,>=0.4.0 in /opt/miniconda3/lib/python3.8/site-packages (from spacy<2.4.0,>=2.3.0->en_core_web_sm==2.3.1) (0.8.0)\n",
      "Requirement already satisfied: preshed<3.1.0,>=3.0.2 in /opt/miniconda3/lib/python3.8/site-packages (from spacy<2.4.0,>=2.3.0->en_core_web_sm==2.3.1) (3.0.2)\n",
      "Requirement already satisfied: certifi>=2017.4.17 in /opt/miniconda3/lib/python3.8/site-packages (from requests<3.0.0,>=2.13.0->spacy<2.4.0,>=2.3.0->en_core_web_sm==2.3.1) (2020.6.20)\n",
      "Requirement already satisfied: idna<3,>=2.5 in /opt/miniconda3/lib/python3.8/site-packages (from requests<3.0.0,>=2.13.0->spacy<2.4.0,>=2.3.0->en_core_web_sm==2.3.1) (2.9)\n",
      "Requirement already satisfied: chardet<4,>=3.0.2 in /opt/miniconda3/lib/python3.8/site-packages (from requests<3.0.0,>=2.13.0->spacy<2.4.0,>=2.3.0->en_core_web_sm==2.3.1) (3.0.4)\n",
      "Requirement already satisfied: urllib3!=1.25.0,!=1.25.1,<1.26,>=1.21.1 in /opt/miniconda3/lib/python3.8/site-packages (from requests<3.0.0,>=2.13.0->spacy<2.4.0,>=2.3.0->en_core_web_sm==2.3.1) (1.25.8)\n",
      "\u001b[38;5;2m✔ Download and installation successful\u001b[0m\n",
      "You can now load the model via spacy.load('en_core_web_sm')\n",
      "\u001b[38;5;2m✔ Linking successful\u001b[0m\n",
      "/opt/miniconda3/lib/python3.8/site-packages/en_core_web_sm -->\n",
      "/opt/miniconda3/lib/python3.8/site-packages/spacy/data/en\n",
      "You can now load the model via spacy.load('en')\n"
     ]
    }
   ],
   "source": [
    "import spacy\n",
    "from spacy import displacy\n",
    "import json\n",
    "!python3 -m spacy download en\n",
    "import en_core_web_sm\n",
    "\n",
    "nlp = en_core_web_sm.load()"
   ]
  },
  {
   "cell_type": "code",
   "execution_count": 2,
   "metadata": {},
   "outputs": [
    {
     "data": {
      "application/javascript": [
       "IPython.OutputArea.auto_scroll_threshold = 9999;\n"
      ],
      "text/plain": [
       "<IPython.core.display.Javascript object>"
      ]
     },
     "metadata": {},
     "output_type": "display_data"
    }
   ],
   "source": [
    "%%javascript\n",
    "IPython.OutputArea.auto_scroll_threshold = 9999;"
   ]
  },
  {
   "cell_type": "markdown",
   "metadata": {},
   "source": [
    "***\n",
    "***CONSTANTS***\n",
    "***"
   ]
  },
  {
   "cell_type": "code",
   "execution_count": 3,
   "metadata": {},
   "outputs": [],
   "source": [
    "COPULAS = [\"is\", \"are\", \"were\"]\n",
    "VERB_TAGS = [\"AUX\",\"VERB\"]"
   ]
  },
  {
   "cell_type": "code",
   "execution_count": 4,
   "metadata": {},
   "outputs": [],
   "source": [
    "sentence_group_1 = [\"The whale is an animal.\",\n",
    "\"The blue whale is an animal.\",\n",
    "\"The whale is a quadrupedal mammal.\",\n",
    "\"The chameleon is a polychromatic arboreal insectivore.\",\n",
    "\"Carnivorous spiders are common.\",\n",
    "\"All cephalopods are nocturnal.\",\n",
    "\"The majority of cephalopods are nocturnal.\",\n",
    "\"Some cephalopods are nocturnal.\",\n",
    "\"No cephalopods are nocturnal.\",\n",
    "\"Most terrestrial gastropods are hermaphrodites.\",\n",
    "\"The simplest gastropods are the limpets and abalone.\",\n",
    "\"A cephalopod is any member of the molluscan class Cephalopoda such as a squid, octopus, cuttlefish, or nautilus.\",\n",
    "\"Gastropods were described as gastropodes by Georges Cuiver.\",\n",
    "\"Cephalopods are widely regarded as the most intelligent of the invertebrates.\"]\n",
    "\n",
    "sentence_group_2 = [\"The fastest biped is the ostrich.\",\n",
    "\"Not all tetrapods are quadrupeds and not all quadrupeds are tetrapods.\",\n",
    "\"A tripod stance is a behaviour in which quadruped animals rear up on their hind legs and use their tail to support their weight.\",\n",
    "\"Brontosaurus (meaning \\\"thunder lizard\\\" from Greek βροντή, \\\"thunder\\\" and σαῦρος, \\\"lizard\\\") is a genus of gigantic quadruped sauropod dinosaurs.\",\n",
    "\"Conrad Gessner (1516–1565) was a Swiss naturalist and bibliographer and one of founding figures of modern zoology.\",\n",
    "\"Sound waves with frequency above 20 kHz are called ultrasonic waves and are inaudble to humans, but some animals, like bats and dolphins, use them.\",\n",
    "\"A timer is a kind of clock for measuring time intervals, often with an audible alarm that the time is up.\",\n",
    "\"There is a debate among audiophiles on whether there is an audible difference between tubes and transistors in sound equipment.\",\n",
    "\"A Geiger counter is an instrument that measures ionizing radiation such as alpha particles, beta particles, or gamma rays. The radiation sensor produces a series of audible clicks when radiation is present.\",\n",
    "\"Autophagy is the process that cells use to break down and recycle cellular components.\"]"
   ]
  },
  {
   "cell_type": "markdown",
   "metadata": {},
   "source": [
    "***\n",
    "***HELPERS***\n",
    "***"
   ]
  },
  {
   "cell_type": "code",
   "execution_count": 5,
   "metadata": {},
   "outputs": [],
   "source": [
    "def visualize(doc):\n",
    "    # https://spacy.io/api/top-level#displacy_options\n",
    "    options= {\n",
    "        \"compact\":True,\n",
    "        \"distance\":100,\n",
    "    }\n",
    "    displacy.render(doc, style='dep',jupyter=True,options=options)    \n",
    "    \n",
    "def describe(sentence):\n",
    "    doc = nlp((sentence))\n",
    "    visualize(doc)\n",
    "    print(json.dumps(doc.to_json(), indent=1))    \n",
    "    \n",
    "def first_or_none(lst):\n",
    "    return None if len(lst) == 0 else lst[0]    \n",
    "\n",
    "def flatten(lst):\n",
    "    return [item for sublist in lst for item in sublist]"
   ]
  },
  {
   "cell_type": "markdown",
   "metadata": {},
   "source": [
    "***\n",
    "***DEPENDENCY TREE PARSING METHODS***\n",
    "***"
   ]
  },
  {
   "cell_type": "code",
   "execution_count": 6,
   "metadata": {},
   "outputs": [],
   "source": [
    "def children_for(json_doc, head_id, recursive=False):\n",
    "    \"\"\"Recursively find the children and the children's children for a word in a dependency tree.\n",
    "    \n",
    "    \n",
    "    \"\"\"    \n",
    "    results = []\n",
    "    \n",
    "    for x in json_doc[\"tokens\"]:\n",
    "        if x[\"head\"] == head_id and x[\"id\"] != head_id:\n",
    "            results.append(x)\n",
    "            \n",
    "    if recursive and len(results) > 0:\n",
    "        return results + flatten([children_for(json_doc, r[\"id\"], True) for r in results])\n",
    "    else:\n",
    "        return results\n",
    "\n",
    "def find_token_by_attr(tokens, attr, value):\n",
    "    results = [t for t in tokens if t[attr] == value]\n",
    "    return first_or_none(results)\n",
    "\n",
    "def filter_tokens_by_attr(tokens, attr, value):\n",
    "    return [t for t in tokens if t[attr] != value]\n",
    "\n",
    "def filter_tokens_by_attrs(tokens, k_v_pairs):\n",
    "    for key, value in k_v_pairs:\n",
    "        tokens = filter_tokens_by_attr(tokens, key, value)\n",
    "    return tokens\n",
    "\n",
    "def select_tokens_by_attr(tokens, attr, value):\n",
    "    return [t for t in tokens if t[attr] == value]\n",
    "\n",
    "def select_tokens_by_attrs(tokens, k_v_pairs):\n",
    "    result = []\n",
    "    for key, value in k_v_pairs:\n",
    "        result += select_tokens_by_attr(tokens, key, value)\n",
    "    return result\n",
    "\n",
    "def get_verbs(json_doc, only=None):\n",
    "    results = []\n",
    "    for x in json_doc[\"tokens\"]:\n",
    "        value = value_for_token(x, json_doc)\n",
    "        is_verb = x[\"pos\"] in VERB_TAGS\n",
    "        include = only is None or value in only\n",
    "        if is_verb and include:\n",
    "            results.append(x)\n",
    "    return results\n",
    "\n",
    "def sorted_values(tokens, json_doc):\n",
    "    return [value_for_token(t, json_doc) for t in sorted(tokens, key=lambda w: w[\"id\"])]\n",
    "\n",
    "def value_for_token(token, json_doc):\n",
    "    return json_doc[\"text\"][token[\"start\"]:token[\"end\"]].lower()"
   ]
  },
  {
   "cell_type": "code",
   "execution_count": 13,
   "metadata": {},
   "outputs": [],
   "source": [
    "VALID_PREDICATE_K_V_PAIRS = [\n",
    "    (\"dep\",\"acomp\"),\n",
    "    (\"dep\",\"amod\"),\n",
    "    (\"dep\",\"attr\")\n",
    "]\n",
    "\n",
    "# primary entry point\n",
    "def mine_json_doc(json_doc, verbs):\n",
    "    results = []\n",
    "    \n",
    "    for verb in get_verbs(json_doc, verbs):\n",
    "        children = children_for(json_doc, verb[\"id\"])\n",
    "        print(f\"parsing verb {value_for_token(verb, json_doc)}...\")\n",
    "        subject = find_token_by_attr(children, \"dep\", \"nsubj\")     \n",
    "        if subject is None:\n",
    "            continue\n",
    "            \n",
    "        print(f\"\\n\\tsubject is: {value_for_token(subject, json_doc)}\")\n",
    "        predicates = select_tokens_by_attrs(children, VALID_PREDICATE_K_V_PAIRS)\n",
    "                    \n",
    "        subject_deps = children_for(json_doc, subject[\"id\"])\n",
    "        subject_deps = filter_tokens_by_attrs(subject_deps, [(\"pos\", \"DET\"),(\"pos\", \"PUNCT\")])\n",
    "        print(f\"\\t\\tdependencies are: {', '.join([value_for_token(o, json_doc) for o in subject_deps])}\")\n",
    "        word = [subject] + subject_deps\n",
    "        \n",
    "        properties = []\n",
    "        \n",
    "        print(f\"\\n\\tpredicates are: {', '.join([value_for_token(o, json_doc) for o in predicates])}\")\n",
    "        \n",
    "        for o in predicates:\n",
    "            print(f\"\\n\\tparsing predicate {value_for_token(o, json_doc)}...\")\n",
    "            properties.append(o)            \n",
    "            other_deps = children_for(json_doc, o[\"id\"], True)\n",
    "            filtered = filter_tokens_by_attrs(other_deps, [(\"pos\", \"DET\")])\n",
    "            print(f\"\\t\\tdependencies are: {', '.join([value_for_token(o, json_doc) for o in filtered])}\")\n",
    "            properties += filtered\n",
    "            \n",
    "        word = sorted_values(word, json_doc)\n",
    "        properties = sorted_values(properties, json_doc)\n",
    "            \n",
    "        results.append((\" \".join(word), \" \".join(properties)))\n",
    "        \n",
    "    return results\n",
    "\n",
    "def mine_sentence(sentence):\n",
    "    return mine_json_doc(nlp((sentence)).to_json(), COPULAS)"
   ]
  },
  {
   "cell_type": "markdown",
   "metadata": {},
   "source": [
    "***\n",
    "***TEST***\n",
    "***"
   ]
  },
  {
   "cell_type": "code",
   "execution_count": 14,
   "metadata": {},
   "outputs": [],
   "source": [
    "s = \"Gastropods were described as gastropodes by Georges Cuiver.\""
   ]
  },
  {
   "cell_type": "code",
   "execution_count": 15,
   "metadata": {},
   "outputs": [
    {
     "name": "stdout",
     "output_type": "stream",
     "text": [
      "parsing verb were...\n",
      "[]\n"
     ]
    }
   ],
   "source": [
    "print(mine_sentence(s))"
   ]
  },
  {
   "cell_type": "code",
   "execution_count": null,
   "metadata": {},
   "outputs": [],
   "source": []
  },
  {
   "cell_type": "code",
   "execution_count": null,
   "metadata": {},
   "outputs": [],
   "source": []
  },
  {
   "cell_type": "code",
   "execution_count": null,
   "metadata": {},
   "outputs": [],
   "source": []
  },
  {
   "cell_type": "code",
   "execution_count": 16,
   "metadata": {},
   "outputs": [
    {
     "data": {
      "text/html": [
       "<svg xmlns=\"http://www.w3.org/2000/svg\" xmlns:xlink=\"http://www.w3.org/1999/xlink\" xml:lang=\"en\" id=\"477fc2c00d714ec190c907603a9b9f37-0\" class=\"displacy\" width=\"850\" height=\"287.0\" direction=\"ltr\" style=\"max-width: none; height: 287.0px; color: #000000; background: #ffffff; font-family: Arial; direction: ltr\">\n",
       "<text class=\"displacy-token\" fill=\"currentColor\" text-anchor=\"middle\" y=\"197.0\">\n",
       "    <tspan class=\"displacy-word\" fill=\"currentColor\" x=\"50\">Gastropods</tspan>\n",
       "    <tspan class=\"displacy-tag\" dy=\"2em\" fill=\"currentColor\" x=\"50\">NOUN</tspan>\n",
       "</text>\n",
       "\n",
       "<text class=\"displacy-token\" fill=\"currentColor\" text-anchor=\"middle\" y=\"197.0\">\n",
       "    <tspan class=\"displacy-word\" fill=\"currentColor\" x=\"150\">were</tspan>\n",
       "    <tspan class=\"displacy-tag\" dy=\"2em\" fill=\"currentColor\" x=\"150\">VERB</tspan>\n",
       "</text>\n",
       "\n",
       "<text class=\"displacy-token\" fill=\"currentColor\" text-anchor=\"middle\" y=\"197.0\">\n",
       "    <tspan class=\"displacy-word\" fill=\"currentColor\" x=\"250\">described</tspan>\n",
       "    <tspan class=\"displacy-tag\" dy=\"2em\" fill=\"currentColor\" x=\"250\">VERB</tspan>\n",
       "</text>\n",
       "\n",
       "<text class=\"displacy-token\" fill=\"currentColor\" text-anchor=\"middle\" y=\"197.0\">\n",
       "    <tspan class=\"displacy-word\" fill=\"currentColor\" x=\"350\">as</tspan>\n",
       "    <tspan class=\"displacy-tag\" dy=\"2em\" fill=\"currentColor\" x=\"350\">ADP</tspan>\n",
       "</text>\n",
       "\n",
       "<text class=\"displacy-token\" fill=\"currentColor\" text-anchor=\"middle\" y=\"197.0\">\n",
       "    <tspan class=\"displacy-word\" fill=\"currentColor\" x=\"450\">gastropodes</tspan>\n",
       "    <tspan class=\"displacy-tag\" dy=\"2em\" fill=\"currentColor\" x=\"450\">NOUN</tspan>\n",
       "</text>\n",
       "\n",
       "<text class=\"displacy-token\" fill=\"currentColor\" text-anchor=\"middle\" y=\"197.0\">\n",
       "    <tspan class=\"displacy-word\" fill=\"currentColor\" x=\"550\">by</tspan>\n",
       "    <tspan class=\"displacy-tag\" dy=\"2em\" fill=\"currentColor\" x=\"550\">ADP</tspan>\n",
       "</text>\n",
       "\n",
       "<text class=\"displacy-token\" fill=\"currentColor\" text-anchor=\"middle\" y=\"197.0\">\n",
       "    <tspan class=\"displacy-word\" fill=\"currentColor\" x=\"650\">Georges</tspan>\n",
       "    <tspan class=\"displacy-tag\" dy=\"2em\" fill=\"currentColor\" x=\"650\">PROPN</tspan>\n",
       "</text>\n",
       "\n",
       "<text class=\"displacy-token\" fill=\"currentColor\" text-anchor=\"middle\" y=\"197.0\">\n",
       "    <tspan class=\"displacy-word\" fill=\"currentColor\" x=\"750\">Cuiver.</tspan>\n",
       "    <tspan class=\"displacy-tag\" dy=\"2em\" fill=\"currentColor\" x=\"750\">PROPN</tspan>\n",
       "</text>\n",
       "\n",
       "<g class=\"displacy-arrow\">\n",
       "    <path class=\"displacy-arc\" id=\"arrow-477fc2c00d714ec190c907603a9b9f37-0-0\" stroke-width=\"2px\" d=\"M62,152.0 62,118.66666666666666 247.0,118.66666666666666 247.0,152.0\" fill=\"none\" stroke=\"currentColor\"/>\n",
       "    <text dy=\"1.25em\" style=\"font-size: 0.8em; letter-spacing: 1px\">\n",
       "        <textPath xlink:href=\"#arrow-477fc2c00d714ec190c907603a9b9f37-0-0\" class=\"displacy-label\" startOffset=\"50%\" side=\"left\" fill=\"currentColor\" text-anchor=\"middle\">nsubjpass</textPath>\n",
       "    </text>\n",
       "    <path class=\"displacy-arrowhead\" d=\"M62,154.0 L58,146.0 66,146.0\" fill=\"currentColor\"/>\n",
       "</g>\n",
       "\n",
       "<g class=\"displacy-arrow\">\n",
       "    <path class=\"displacy-arc\" id=\"arrow-477fc2c00d714ec190c907603a9b9f37-0-1\" stroke-width=\"2px\" d=\"M162,152.0 162,135.33333333333334 244.0,135.33333333333334 244.0,152.0\" fill=\"none\" stroke=\"currentColor\"/>\n",
       "    <text dy=\"1.25em\" style=\"font-size: 0.8em; letter-spacing: 1px\">\n",
       "        <textPath xlink:href=\"#arrow-477fc2c00d714ec190c907603a9b9f37-0-1\" class=\"displacy-label\" startOffset=\"50%\" side=\"left\" fill=\"currentColor\" text-anchor=\"middle\">auxpass</textPath>\n",
       "    </text>\n",
       "    <path class=\"displacy-arrowhead\" d=\"M162,154.0 L158,146.0 166,146.0\" fill=\"currentColor\"/>\n",
       "</g>\n",
       "\n",
       "<g class=\"displacy-arrow\">\n",
       "    <path class=\"displacy-arc\" id=\"arrow-477fc2c00d714ec190c907603a9b9f37-0-2\" stroke-width=\"2px\" d=\"M262,152.0 262,135.33333333333334 344.0,135.33333333333334 344.0,152.0\" fill=\"none\" stroke=\"currentColor\"/>\n",
       "    <text dy=\"1.25em\" style=\"font-size: 0.8em; letter-spacing: 1px\">\n",
       "        <textPath xlink:href=\"#arrow-477fc2c00d714ec190c907603a9b9f37-0-2\" class=\"displacy-label\" startOffset=\"50%\" side=\"left\" fill=\"currentColor\" text-anchor=\"middle\">prep</textPath>\n",
       "    </text>\n",
       "    <path class=\"displacy-arrowhead\" d=\"M344.0,154.0 L348.0,146.0 340.0,146.0\" fill=\"currentColor\"/>\n",
       "</g>\n",
       "\n",
       "<g class=\"displacy-arrow\">\n",
       "    <path class=\"displacy-arc\" id=\"arrow-477fc2c00d714ec190c907603a9b9f37-0-3\" stroke-width=\"2px\" d=\"M362,152.0 362,135.33333333333334 444.0,135.33333333333334 444.0,152.0\" fill=\"none\" stroke=\"currentColor\"/>\n",
       "    <text dy=\"1.25em\" style=\"font-size: 0.8em; letter-spacing: 1px\">\n",
       "        <textPath xlink:href=\"#arrow-477fc2c00d714ec190c907603a9b9f37-0-3\" class=\"displacy-label\" startOffset=\"50%\" side=\"left\" fill=\"currentColor\" text-anchor=\"middle\">pobj</textPath>\n",
       "    </text>\n",
       "    <path class=\"displacy-arrowhead\" d=\"M444.0,154.0 L448.0,146.0 440.0,146.0\" fill=\"currentColor\"/>\n",
       "</g>\n",
       "\n",
       "<g class=\"displacy-arrow\">\n",
       "    <path class=\"displacy-arc\" id=\"arrow-477fc2c00d714ec190c907603a9b9f37-0-4\" stroke-width=\"2px\" d=\"M262,152.0 262,102.0 550.0,102.0 550.0,152.0\" fill=\"none\" stroke=\"currentColor\"/>\n",
       "    <text dy=\"1.25em\" style=\"font-size: 0.8em; letter-spacing: 1px\">\n",
       "        <textPath xlink:href=\"#arrow-477fc2c00d714ec190c907603a9b9f37-0-4\" class=\"displacy-label\" startOffset=\"50%\" side=\"left\" fill=\"currentColor\" text-anchor=\"middle\">agent</textPath>\n",
       "    </text>\n",
       "    <path class=\"displacy-arrowhead\" d=\"M550.0,154.0 L554.0,146.0 546.0,146.0\" fill=\"currentColor\"/>\n",
       "</g>\n",
       "\n",
       "<g class=\"displacy-arrow\">\n",
       "    <path class=\"displacy-arc\" id=\"arrow-477fc2c00d714ec190c907603a9b9f37-0-5\" stroke-width=\"2px\" d=\"M662,152.0 662,135.33333333333334 744.0,135.33333333333334 744.0,152.0\" fill=\"none\" stroke=\"currentColor\"/>\n",
       "    <text dy=\"1.25em\" style=\"font-size: 0.8em; letter-spacing: 1px\">\n",
       "        <textPath xlink:href=\"#arrow-477fc2c00d714ec190c907603a9b9f37-0-5\" class=\"displacy-label\" startOffset=\"50%\" side=\"left\" fill=\"currentColor\" text-anchor=\"middle\">compound</textPath>\n",
       "    </text>\n",
       "    <path class=\"displacy-arrowhead\" d=\"M662,154.0 L658,146.0 666,146.0\" fill=\"currentColor\"/>\n",
       "</g>\n",
       "\n",
       "<g class=\"displacy-arrow\">\n",
       "    <path class=\"displacy-arc\" id=\"arrow-477fc2c00d714ec190c907603a9b9f37-0-6\" stroke-width=\"2px\" d=\"M562,152.0 562,118.66666666666666 747.0,118.66666666666666 747.0,152.0\" fill=\"none\" stroke=\"currentColor\"/>\n",
       "    <text dy=\"1.25em\" style=\"font-size: 0.8em; letter-spacing: 1px\">\n",
       "        <textPath xlink:href=\"#arrow-477fc2c00d714ec190c907603a9b9f37-0-6\" class=\"displacy-label\" startOffset=\"50%\" side=\"left\" fill=\"currentColor\" text-anchor=\"middle\">pobj</textPath>\n",
       "    </text>\n",
       "    <path class=\"displacy-arrowhead\" d=\"M747.0,154.0 L751.0,146.0 743.0,146.0\" fill=\"currentColor\"/>\n",
       "</g>\n",
       "</svg>"
      ],
      "text/plain": [
       "<IPython.core.display.HTML object>"
      ]
     },
     "metadata": {},
     "output_type": "display_data"
    },
    {
     "name": "stdout",
     "output_type": "stream",
     "text": [
      "{\n",
      " \"text\": \"Gastropods were described as gastropodes by Georges Cuiver.\",\n",
      " \"ents\": [\n",
      "  {\n",
      "   \"start\": 44,\n",
      "   \"end\": 58,\n",
      "   \"label\": \"PERSON\"\n",
      "  }\n",
      " ],\n",
      " \"sents\": [\n",
      "  {\n",
      "   \"start\": 0,\n",
      "   \"end\": 59\n",
      "  }\n",
      " ],\n",
      " \"tokens\": [\n",
      "  {\n",
      "   \"id\": 0,\n",
      "   \"start\": 0,\n",
      "   \"end\": 10,\n",
      "   \"pos\": \"NOUN\",\n",
      "   \"tag\": \"NNS\",\n",
      "   \"dep\": \"nsubjpass\",\n",
      "   \"head\": 2\n",
      "  },\n",
      "  {\n",
      "   \"id\": 1,\n",
      "   \"start\": 11,\n",
      "   \"end\": 15,\n",
      "   \"pos\": \"VERB\",\n",
      "   \"tag\": \"VBD\",\n",
      "   \"dep\": \"auxpass\",\n",
      "   \"head\": 2\n",
      "  },\n",
      "  {\n",
      "   \"id\": 2,\n",
      "   \"start\": 16,\n",
      "   \"end\": 25,\n",
      "   \"pos\": \"VERB\",\n",
      "   \"tag\": \"VBN\",\n",
      "   \"dep\": \"ROOT\",\n",
      "   \"head\": 2\n",
      "  },\n",
      "  {\n",
      "   \"id\": 3,\n",
      "   \"start\": 26,\n",
      "   \"end\": 28,\n",
      "   \"pos\": \"ADP\",\n",
      "   \"tag\": \"IN\",\n",
      "   \"dep\": \"prep\",\n",
      "   \"head\": 2\n",
      "  },\n",
      "  {\n",
      "   \"id\": 4,\n",
      "   \"start\": 29,\n",
      "   \"end\": 40,\n",
      "   \"pos\": \"NOUN\",\n",
      "   \"tag\": \"NNS\",\n",
      "   \"dep\": \"pobj\",\n",
      "   \"head\": 3\n",
      "  },\n",
      "  {\n",
      "   \"id\": 5,\n",
      "   \"start\": 41,\n",
      "   \"end\": 43,\n",
      "   \"pos\": \"ADP\",\n",
      "   \"tag\": \"IN\",\n",
      "   \"dep\": \"agent\",\n",
      "   \"head\": 2\n",
      "  },\n",
      "  {\n",
      "   \"id\": 6,\n",
      "   \"start\": 44,\n",
      "   \"end\": 51,\n",
      "   \"pos\": \"PROPN\",\n",
      "   \"tag\": \"NNP\",\n",
      "   \"dep\": \"compound\",\n",
      "   \"head\": 7\n",
      "  },\n",
      "  {\n",
      "   \"id\": 7,\n",
      "   \"start\": 52,\n",
      "   \"end\": 58,\n",
      "   \"pos\": \"PROPN\",\n",
      "   \"tag\": \"NNP\",\n",
      "   \"dep\": \"pobj\",\n",
      "   \"head\": 5\n",
      "  },\n",
      "  {\n",
      "   \"id\": 8,\n",
      "   \"start\": 58,\n",
      "   \"end\": 59,\n",
      "   \"pos\": \"PUNCT\",\n",
      "   \"tag\": \".\",\n",
      "   \"dep\": \"punct\",\n",
      "   \"head\": 2\n",
      "  }\n",
      " ]\n",
      "}\n"
     ]
    }
   ],
   "source": [
    "describe(s)"
   ]
  },
  {
   "cell_type": "code",
   "execution_count": null,
   "metadata": {},
   "outputs": [],
   "source": []
  },
  {
   "cell_type": "code",
   "execution_count": null,
   "metadata": {},
   "outputs": [],
   "source": []
  },
  {
   "cell_type": "code",
   "execution_count": 9,
   "metadata": {},
   "outputs": [
    {
     "name": "stdout",
     "output_type": "stream",
     "text": [
      "The whale is an animal. \n",
      " [('whale', 'animal')] \n",
      "\n",
      "The blue whale is an animal. \n",
      " [('blue whale', 'animal')] \n",
      "\n",
      "The whale is a quadrupedal mammal. \n",
      " [('whale', 'quadrupedal mammal')] \n",
      "\n",
      "The chameleon is a polychromatic arboreal insectivore. \n",
      " [('chameleon', 'polychromatic arboreal insectivore')] \n",
      "\n",
      "Carnivorous spiders are common. \n",
      " [('carnivorous spiders', 'common')] \n",
      "\n",
      "All cephalopods are nocturnal. \n",
      " [('cephalopods', 'nocturnal')] \n",
      "\n",
      "The majority of cephalopods are nocturnal. \n",
      " [('majority of', 'nocturnal')] \n",
      "\n",
      "Some cephalopods are nocturnal. \n",
      " [('cephalopods', 'nocturnal')] \n",
      "\n",
      "No cephalopods are nocturnal. \n",
      " [('cephalopods', 'nocturnal')] \n",
      "\n",
      "Most terrestrial gastropods are hermaphrodites. \n",
      " [('most terrestrial gastropods', 'hermaphrodites')] \n",
      "\n",
      "The simplest gastropods are the limpets and abalone. \n",
      " [('simplest gastropods', 'limpets and abalone')] \n",
      "\n",
      "A cephalopod is any member of the molluscan class Cephalopoda such as a squid, octopus, cuttlefish, or nautilus. \n",
      " [('cephalopod', 'member of molluscan class cephalopoda such as squid , octopus , cuttlefish , or nautilus')] \n",
      "\n",
      "Gastropods were described as gastropodes by Georges Cuiver. \n",
      " [] \n",
      "\n",
      "Cephalopods are widely regarded as the most intelligent of the invertebrates. \n",
      " [] \n",
      "\n"
     ]
    }
   ],
   "source": [
    "for sentence in sentence_group_1:\n",
    "    json_doc = nlp((sentence)).to_json()\n",
    "    predictions = mine(json_doc, COPULAS)\n",
    "    print(json_doc[\"text\"], \"\\n\", predictions, \"\\n\")"
   ]
  },
  {
   "cell_type": "code",
   "execution_count": 94,
   "metadata": {},
   "outputs": [
    {
     "data": {
      "text/plain": [
       "'adjectival modifier'"
      ]
     },
     "execution_count": 94,
     "metadata": {},
     "output_type": "execute_result"
    }
   ],
   "source": [
    "spacy.explain(\"amod\")"
   ]
  },
  {
   "cell_type": "code",
   "execution_count": 95,
   "metadata": {},
   "outputs": [
    {
     "data": {
      "text/plain": [
       "'adjectival complement'"
      ]
     },
     "execution_count": 95,
     "metadata": {},
     "output_type": "execute_result"
    }
   ],
   "source": [
    "spacy.explain(\"acomp\")"
   ]
  },
  {
   "cell_type": "code",
   "execution_count": 11,
   "metadata": {},
   "outputs": [
    {
     "data": {
      "text/plain": [
       "'\\n1. looking at every clause\\n2. looking if the verb matches a given verb or any of its other forms\\n3. taking the subject of that verbs and any of its children\\n4. also taking the predicated of that verb and any of its children\\n5. filter out things (like determiners, punctuation)\\n'"
      ]
     },
     "execution_count": 11,
     "metadata": {},
     "output_type": "execute_result"
    }
   ],
   "source": [
    "'''\n",
    "1. looking at every clause\n",
    "2. looking if the verb matches a given verb or any of its other forms\n",
    "3. taking the subject of that verbs and any of its children\n",
    "4. also taking the predicated of that verb and any of its children\n",
    "5. filter out things (like determiners, punctuation)\n",
    "'''"
   ]
  },
  {
   "cell_type": "code",
   "execution_count": null,
   "metadata": {},
   "outputs": [],
   "source": []
  }
 ],
 "metadata": {
  "kernelspec": {
   "display_name": "Python 3",
   "language": "python",
   "name": "python3"
  },
  "language_info": {
   "codemirror_mode": {
    "name": "ipython",
    "version": 3
   },
   "file_extension": ".py",
   "mimetype": "text/x-python",
   "name": "python",
   "nbconvert_exporter": "python",
   "pygments_lexer": "ipython3",
   "version": "3.7.7"
  }
 },
 "nbformat": 4,
 "nbformat_minor": 4
}
